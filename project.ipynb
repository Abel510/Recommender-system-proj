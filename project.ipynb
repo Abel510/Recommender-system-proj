{
 "cells": [
  {
   "cell_type": "raw",
   "id": "5478dd8b",
   "metadata": {
    "_cell_guid": "b1076dfc-b9ad-4769-8c92-a6c4dae69d19",
    "_uuid": "8f2839f25d086af736a60e9eeb907d3b93b6e0e5",
    "papermill": {
     "duration": 0.005926,
     "end_time": "2024-07-07T15:27:32.010444",
     "exception": false,
     "start_time": "2024-07-07T15:27:32.004518",
     "status": "completed"
    },
    "tags": []
   },
   "source": [
    "# This Python 3 environment comes with many helpful analytics libraries installed\n",
    "# It is defined by the kaggle/python Docker image: https://github.com/kaggle/docker-python\n",
    "# For example, here's several helpful packages to load\n",
    "\n",
    "import numpy as np # linear algebra\n",
    "import pandas as pd # data processing, CSV file I/O (e.g. pd.read_csv)\n",
    "\n",
    "# Input data files are available in the read-only \"../input/\" directory\n",
    "# For example, running this (by clicking run or pressing Shift+Enter) will list all files under the input directory\n",
    "\n",
    "import os\n",
    "for dirname, _, filenames in os.walk('/kaggle/input'):\n",
    "    for filename in filenames:\n",
    "        print(os.path.join(dirname, filename))\n",
    "\n",
    "# You can write up to 20GB to the current directory (/kaggle/working/) that gets preserved as output when you create a version using \"Save & Run All\" \n",
    "# You can also write temporary files to /kaggle/temp/, but they won't be saved outside of the current session"
   ]
  },
  {
   "cell_type": "markdown",
   "id": "90995de0",
   "metadata": {
    "papermill": {
     "duration": 0.004995,
     "end_time": "2024-07-07T15:27:32.020805",
     "exception": false,
     "start_time": "2024-07-07T15:27:32.015810",
     "status": "completed"
    },
    "tags": []
   },
   "source": [
    "# Project REMA 2024 - Abel ANDRY\n"
   ]
  },
  {
   "cell_type": "markdown",
   "id": "5dcbbf9e",
   "metadata": {
    "papermill": {
     "duration": 0.004992,
     "end_time": "2024-07-07T15:27:32.031112",
     "exception": false,
     "start_time": "2024-07-07T15:27:32.026120",
     "status": "completed"
    },
    "tags": []
   },
   "source": [
    "## Welcome to my project for the REMA 2024 course, I have put all the explanation + source directly in this notebook"
   ]
  },
  {
   "cell_type": "markdown",
   "id": "b38feea2",
   "metadata": {
    "papermill": {
     "duration": 0.005063,
     "end_time": "2024-07-07T15:27:32.041398",
     "exception": false,
     "start_time": "2024-07-07T15:27:32.036335",
     "status": "completed"
    },
    "tags": []
   },
   "source": [
    "# Introduction\n",
    "This project aimed to develop a movie recommender system specifically tailored for couples, addressing the challenge of finding films that satisfy the preferences of two individuals simultaneously. We utilized collaborative filtering techniques and incorporated data from both MovieLens and IMDb datasets to create a system that balances individual tastes with overall movie quality."
   ]
  },
  {
   "cell_type": "markdown",
   "id": "c4a8f77c",
   "metadata": {
    "papermill": {
     "duration": 0.00493,
     "end_time": "2024-07-07T15:27:32.051545",
     "exception": false,
     "start_time": "2024-07-07T15:27:32.046615",
     "status": "completed"
    },
    "tags": []
   },
   "source": [
    "Import necessary libraries for data manipulation (pandas, numpy), machine learning tasks (sklearn), and regex (re)."
   ]
  },
  {
   "cell_type": "code",
   "execution_count": 1,
   "id": "0395fc7d",
   "metadata": {
    "execution": {
     "iopub.execute_input": "2024-07-07T15:27:32.064197Z",
     "iopub.status.busy": "2024-07-07T15:27:32.063789Z",
     "iopub.status.idle": "2024-07-07T15:27:34.253464Z",
     "shell.execute_reply": "2024-07-07T15:27:34.252341Z"
    },
    "papermill": {
     "duration": 2.199247,
     "end_time": "2024-07-07T15:27:34.256438",
     "exception": false,
     "start_time": "2024-07-07T15:27:32.057191",
     "status": "completed"
    },
    "tags": []
   },
   "outputs": [],
   "source": [
    "import pandas as pd\n",
    "import numpy as np\n",
    "from sklearn.model_selection import train_test_split\n",
    "from sklearn.decomposition import TruncatedSVD\n",
    "from sklearn.metrics import mean_squared_error, mean_absolute_error\n",
    "from sklearn.preprocessing import StandardScaler\n",
    "from sklearn.preprocessing import MinMaxScaler\n",
    "from sklearn.metrics.pairwise import cosine_similarity\n",
    "import re"
   ]
  },
  {
   "cell_type": "markdown",
   "id": "ccdafb28",
   "metadata": {
    "papermill": {
     "duration": 0.005296,
     "end_time": "2024-07-07T15:27:34.267231",
     "exception": false,
     "start_time": "2024-07-07T15:27:34.261935",
     "status": "completed"
    },
    "tags": []
   },
   "source": [
    "## Loading the data\n",
    "\n",
    "The movielens-1m was a bit tricky to load, but the imdb was fine."
   ]
  },
  {
   "cell_type": "code",
   "execution_count": 2,
   "id": "3600eeda",
   "metadata": {
    "execution": {
     "iopub.execute_input": "2024-07-07T15:27:34.280151Z",
     "iopub.status.busy": "2024-07-07T15:27:34.279377Z",
     "iopub.status.idle": "2024-07-07T15:28:10.188022Z",
     "shell.execute_reply": "2024-07-07T15:28:10.186950Z"
    },
    "papermill": {
     "duration": 35.918143,
     "end_time": "2024-07-07T15:28:10.190872",
     "exception": false,
     "start_time": "2024-07-07T15:27:34.272729",
     "status": "completed"
    },
    "tags": []
   },
   "outputs": [
    {
     "name": "stderr",
     "output_type": "stream",
     "text": [
      "/tmp/ipykernel_18/2643373763.py:13: DtypeWarning: Columns (4,5) have mixed types. Specify dtype option on import or set low_memory=False.\n",
      "  movies_imdb = pd.read_csv('/kaggle/input/imdbdatasets/title_basics.tsv', sep='\\t')\n"
     ]
    }
   ],
   "source": [
    "movies_ml = pd.read_csv('/kaggle/input/movielens-1m-dataset/movies.dat', \n",
    "                        sep='::', \n",
    "                        engine='python', \n",
    "                        names=['movieId', 'title', 'genres'],\n",
    "                        encoding='ISO-8859-1')\n",
    "\n",
    "ratings_ml = pd.read_csv('/kaggle/input/movielens-1m-dataset/ratings.dat', \n",
    "                         sep='::', \n",
    "                         engine='python', \n",
    "                         names=['userId', 'movieId', 'rating', 'timestamp'],\n",
    "                         encoding='ISO-8859-1')\n",
    "\n",
    "movies_imdb = pd.read_csv('/kaggle/input/imdbdatasets/title_basics.tsv', sep='\\t')\n",
    "ratings_imdb = pd.read_csv('/kaggle/input/imdbdatasets/title_ratings.tsv', sep='\\t')"
   ]
  },
  {
   "cell_type": "markdown",
   "id": "a504990c",
   "metadata": {
    "papermill": {
     "duration": 0.005134,
     "end_time": "2024-07-07T15:28:10.201637",
     "exception": false,
     "start_time": "2024-07-07T15:28:10.196503",
     "status": "completed"
    },
    "tags": []
   },
   "source": [
    "We are here building function to clean the titles of the movies in order to link the two datasets together"
   ]
  },
  {
   "cell_type": "code",
   "execution_count": 3,
   "id": "ca53a7c7",
   "metadata": {
    "execution": {
     "iopub.execute_input": "2024-07-07T15:28:10.214315Z",
     "iopub.status.busy": "2024-07-07T15:28:10.213906Z",
     "iopub.status.idle": "2024-07-07T15:28:10.220410Z",
     "shell.execute_reply": "2024-07-07T15:28:10.219281Z"
    },
    "papermill": {
     "duration": 0.015366,
     "end_time": "2024-07-07T15:28:10.222565",
     "exception": false,
     "start_time": "2024-07-07T15:28:10.207199",
     "status": "completed"
    },
    "tags": []
   },
   "outputs": [],
   "source": [
    "def clean_title(title):\n",
    "    if pd.isna(title) or not isinstance(title, str):\n",
    "        return ''\n",
    "    return re.sub(r'\\s*\\(\\d{4}\\)\\s*$', '', str(title)).strip()\n",
    "\n",
    "def extract_year(title):\n",
    "    if pd.isna(title) or not isinstance(title, str):\n",
    "        return None\n",
    "    match = re.search(r'\\((\\d{4})\\)$', str(title))\n",
    "    return int(match.group(1)) if match else None"
   ]
  },
  {
   "cell_type": "markdown",
   "id": "bcf93224",
   "metadata": {
    "papermill": {
     "duration": 0.005288,
     "end_time": "2024-07-07T15:28:10.233509",
     "exception": false,
     "start_time": "2024-07-07T15:28:10.228221",
     "status": "completed"
    },
    "tags": []
   },
   "source": [
    "## Data preprocessing\n",
    "Here we are preprocessing the data by cleaning titles (ze use the function we did last stage), merging datasets, handling duplicates, creating a user-item matrix, normalizing the data, and splitting it into training and test sets."
   ]
  },
  {
   "cell_type": "code",
   "execution_count": 4,
   "id": "319996c7",
   "metadata": {
    "execution": {
     "iopub.execute_input": "2024-07-07T15:28:10.245927Z",
     "iopub.status.busy": "2024-07-07T15:28:10.245563Z",
     "iopub.status.idle": "2024-07-07T15:28:46.250487Z",
     "shell.execute_reply": "2024-07-07T15:28:46.249357Z"
    },
    "papermill": {
     "duration": 36.014454,
     "end_time": "2024-07-07T15:28:46.253332",
     "exception": false,
     "start_time": "2024-07-07T15:28:10.238878",
     "status": "completed"
    },
    "tags": []
   },
   "outputs": [],
   "source": [
    "movies_ml['clean_title'] = movies_ml['title'].apply(clean_title)\n",
    "movies_ml['year'] = movies_ml['title'].apply(extract_year)\n",
    "movies_imdb['clean_title'] = movies_imdb['primaryTitle'].apply(clean_title)\n",
    "movies_imdb['startYear'] = pd.to_numeric(movies_imdb['startYear'], errors='coerce')\n",
    "\n",
    "merged_movies = pd.merge(movies_ml, movies_imdb,\n",
    "                         left_on=['clean_title', 'year'],\n",
    "                         right_on=['clean_title', 'startYear'],\n",
    "                         how='inner')\n",
    "\n",
    "merged_movies = pd.merge(merged_movies, ratings_imdb, left_on='tconst', right_on='tconst', how='left')\n",
    "\n",
    "user_ratings = ratings_ml.merge(merged_movies[['movieId', 'tconst', 'genres_x', 'genres_y', 'averageRating', 'numVotes']], on='movieId')\n",
    "\n",
    "user_ratings = user_ratings.sort_values('timestamp').drop_duplicates(subset=['userId', 'movieId'], keep='last')\n",
    "\n",
    "user_item_matrix = user_ratings.pivot(index='userId', columns='movieId', values='rating').fillna(0)\n",
    "\n",
    "\n",
    "scaler = StandardScaler()\n",
    "user_item_matrix_scaled = scaler.fit_transform(user_item_matrix)\n",
    "\n",
    "X_train, X_test = train_test_split(user_item_matrix_scaled, test_size=0.2, random_state=42)"
   ]
  },
  {
   "cell_type": "markdown",
   "id": "168389c3",
   "metadata": {
    "papermill": {
     "duration": 0.005278,
     "end_time": "2024-07-07T15:28:46.264524",
     "exception": false,
     "start_time": "2024-07-07T15:28:46.259246",
     "status": "completed"
    },
    "tags": []
   },
   "source": [
    "# Collaborative Filtering Functions:\n",
    "\n",
    "## calculate_user_similarity\n",
    "\n",
    "### This function calculates the similarity between all pairs of users based on their movie ratings.\n",
    "\n",
    "Input: user_item_matrix (a matrix where rows are users, columns are movies, and values are ratings)\n",
    "Process:\n",
    "\n",
    "It uses cosine_similarity from sklearn to compute the similarity between each pair of users\n",
    "Cosine similarity measures the cosine of the angle between two vectors in a multi-dimensional space\n",
    "\n",
    "\n",
    "Output: A DataFrame where both rows and columns are users, and each cell contains the similarity score between those two users\n",
    "\n",
    "\n",
    "## user_based_collaborative_filtering\n",
    "\n",
    "### This function predicts ratings for a specific user based on the ratings of similar users.\n",
    "\n",
    "Inputs:\n",
    "\n",
    "- user_item_matrix: The matrix of user ratings\n",
    "- user_similarity_df: The similarity matrix produced by calculate_user_similarity\n",
    "- user_id: The ID of the user we're predicting for\n",
    "- k: The number of similar users to consider\n",
    "\n",
    "\n",
    "Process:\n",
    "\n",
    "- Get similarity scores for the target user\n",
    "- Identify the top k most similar users (excluding the user themselves)\n",
    "- Get the ratings of these similar users\n",
    "- Calculate weighted average ratings:\n",
    "\n",
    "Weights are the similarity scores\n",
    "For each movie, multiply eqch similar user's rating by their similarity score\n",
    "Sum these weighted ratings and divide by the sum of similarity scores\n",
    "\n",
    "\n",
    "\n",
    "\n",
    "Output: A Series with predicted ratings for all movies for the target user\n",
    "\n",
    "The key idea here is that users who have similar taste (as measured by cosine similarity of their rating vectors) are likely to rate new movies similarly. By weighting the ratings of similar users, we can predict how the target user might rate movies they haven't seen yet."
   ]
  },
  {
   "cell_type": "code",
   "execution_count": 5,
   "id": "0eb70a22",
   "metadata": {
    "execution": {
     "iopub.execute_input": "2024-07-07T15:28:46.277301Z",
     "iopub.status.busy": "2024-07-07T15:28:46.276878Z",
     "iopub.status.idle": "2024-07-07T15:28:46.284095Z",
     "shell.execute_reply": "2024-07-07T15:28:46.283003Z"
    },
    "papermill": {
     "duration": 0.016249,
     "end_time": "2024-07-07T15:28:46.286285",
     "exception": false,
     "start_time": "2024-07-07T15:28:46.270036",
     "status": "completed"
    },
    "tags": []
   },
   "outputs": [],
   "source": [
    "def calculate_user_similarity(user_item_matrix):\n",
    "    return pd.DataFrame(\n",
    "        cosine_similarity(user_item_matrix),\n",
    "        index=user_item_matrix.index,\n",
    "        columns=user_item_matrix.index\n",
    "    )\n",
    "\n",
    "def user_based_collaborative_filtering(user_item_matrix, user_similarity_df, user_id, k=5):\n",
    "    user_similarities = user_similarity_df[user_id]\n",
    "    \n",
    "    similar_users = user_similarities.sort_values(ascending=False).index[1:k+1]\n",
    "    \n",
    "    similar_users_ratings = user_item_matrix.loc[similar_users]\n",
    "    \n",
    "    user_sim_scores = user_similarities[similar_users]\n",
    "    weighted_ratings = similar_users_ratings.T.dot(user_sim_scores)\n",
    "    weighted_avg_ratings = weighted_ratings / user_sim_scores.sum()\n",
    "    \n",
    "    return pd.Series(weighted_avg_ratings, index=user_item_matrix.columns)"
   ]
  },
  {
   "cell_type": "markdown",
   "id": "62e62f4b",
   "metadata": {
    "papermill": {
     "duration": 0.005997,
     "end_time": "2024-07-07T15:28:46.297814",
     "exception": false,
     "start_time": "2024-07-07T15:28:46.291817",
     "status": "completed"
    },
    "tags": []
   },
   "source": [
    "# Recommender System:\n",
    "\n",
    "## recommend_for_couple\n",
    "\n",
    "### This function recommends a movie for a couple based on their individual preferences.\n",
    "\n",
    "Inputs: \n",
    "- IDs of two users\n",
    "- the user-item matrix\n",
    "- user similarity matrix\n",
    "- merged movie data\n",
    "- k (number of similar users to consider)\n",
    "\n",
    "Predicts ratings for each user individually using collaborative filtering\n",
    "Averages the predictions for both users to get couple predictions\n",
    "Creates a DataFrame with movie IDs and their predicted ratings for the couple\n",
    "Merges the predictions with additional movie information\n",
    "Calculates a combined score, weighing the predicted rating (70%) and the IMDb average rating (30%)\n",
    "Selects the movie with the highest combined score and returns it along with its predicted rating\n",
    "\n",
    "## evaluate_recommendations\n",
    "\n",
    "### This function evaluates the recommendation system's performance.\n",
    "\n",
    "To assess the system's performance, we used two common regression metrics:\n",
    "\n",
    "Root Mean Square Error (RMSE)\n",
    "Mean Absolute Error (MAE)\n",
    "\n",
    "These metrics measure the average deviation between predicted and actual ratings.\n",
    "\n",
    "### These functions work together to provide and evaluate movie recommendations for couples. The recommend_for_couple function combines individual user preferences to suggest a movie, while evaluate_recommendations tell us how well these recommendations match actual couple preferences."
   ]
  },
  {
   "cell_type": "code",
   "execution_count": 6,
   "id": "2e9b0b75",
   "metadata": {
    "execution": {
     "iopub.execute_input": "2024-07-07T15:28:46.310459Z",
     "iopub.status.busy": "2024-07-07T15:28:46.310060Z",
     "iopub.status.idle": "2024-07-07T15:28:46.321656Z",
     "shell.execute_reply": "2024-07-07T15:28:46.320627Z"
    },
    "papermill": {
     "duration": 0.020528,
     "end_time": "2024-07-07T15:28:46.323805",
     "exception": false,
     "start_time": "2024-07-07T15:28:46.303277",
     "status": "completed"
    },
    "tags": []
   },
   "outputs": [],
   "source": [
    "def recommend_for_couple(user1_id, user2_id, user_item_matrix, user_similarity_df, merged_movies_df, k=5):\n",
    "\n",
    "    user1_predictions = user_based_collaborative_filtering(user_item_matrix, user_similarity_df, user1_id, k)\n",
    "    user2_predictions = user_based_collaborative_filtering(user_item_matrix, user_similarity_df, user2_id, k)\n",
    "    \n",
    "    couple_predictions = (user1_predictions + user2_predictions) / 2\n",
    "    \n",
    "    predicted_df = pd.DataFrame({\n",
    "        'movieId': couple_predictions.index,\n",
    "        'predicted_rating': couple_predictions.values\n",
    "    })\n",
    "    \n",
    "    combined_df = pd.merge(\n",
    "        predicted_df,\n",
    "        merged_movies_df[['movieId', 'averageRating', 'title', 'genres_x', 'genres_y', 'numVotes']],\n",
    "        on='movieId',\n",
    "        how='inner'\n",
    "    )\n",
    "    \n",
    "    combined_df['combined_score'] = 0.7 * combined_df['predicted_rating'] + 0.3 * combined_df['averageRating'].fillna(0)\n",
    "    \n",
    "    best_movie = combined_df.loc[combined_df['combined_score'].idxmax()]\n",
    "    \n",
    "    return best_movie, best_movie['predicted_rating']\n",
    "\n",
    "def evaluate_recommendations(user_item_matrix, user_similarity_df, merged_movies_df):\n",
    "    mse = 0\n",
    "    mae = 0\n",
    "    count = 0\n",
    "    \n",
    "    for i in range(0, len(user_item_matrix), 2):\n",
    "        if i+1 < len(user_item_matrix):\n",
    "            user1_id = user_item_matrix.index[i]\n",
    "            user2_id = user_item_matrix.index[i+1]\n",
    "            \n",
    "            try:\n",
    "                recommended_movie, predicted_rating = recommend_for_couple(user1_id, user2_id, user_item_matrix, user_similarity_df, merged_movies_df)\n",
    "                \n",
    "                movie_id = recommended_movie['movieId']\n",
    "                if movie_id in user_item_matrix.columns:\n",
    "                    actual_rating1 = user_item_matrix.loc[user1_id, movie_id]\n",
    "                    actual_rating2 = user_item_matrix.loc[user2_id, movie_id]\n",
    "                    actual_rating = (actual_rating1 + actual_rating2) / 2\n",
    "                    \n",
    "                    mse += (predicted_rating - actual_rating) ** 2\n",
    "                    mae += abs(predicted_rating - actual_rating)\n",
    "                    count += 1\n",
    "            except KeyError:\n",
    "                continue\n",
    "    \n",
    "    rmse = np.sqrt(mse / count) if count > 0 else np.inf\n",
    "    mae = mae / count if count > 0 else np.inf\n",
    "    \n",
    "    return rmse, mae"
   ]
  },
  {
   "cell_type": "markdown",
   "id": "9cb2afc2",
   "metadata": {
    "papermill": {
     "duration": 0.005142,
     "end_time": "2024-07-07T15:28:46.334456",
     "exception": false,
     "start_time": "2024-07-07T15:28:46.329314",
     "status": "completed"
    },
    "tags": []
   },
   "source": [
    "## Collaborative Filtering Approach\n",
    "Our recommender system use user-based collaborative filtering. Key components include:\n",
    "\n",
    "- User Similarity Calculation: We computed cosine similarity between user rating vectors to identify users with similar tastes.\n",
    "- Rating Prediction: For each user, we predicted ratings based on the weighted average of ratings from similar users.\n",
    "- Couple Recommendations: We combined individual user predictions and incorporated IMDb ratings to generate recommendations suitable for couples."
   ]
  },
  {
   "cell_type": "markdown",
   "id": "1a455a2e",
   "metadata": {
    "papermill": {
     "duration": 0.005125,
     "end_time": "2024-07-07T15:28:46.345110",
     "exception": false,
     "start_time": "2024-07-07T15:28:46.339985",
     "status": "completed"
    },
    "tags": []
   },
   "source": [
    "# Evaluation of the model"
   ]
  },
  {
   "cell_type": "code",
   "execution_count": 7,
   "id": "8a118b53",
   "metadata": {
    "execution": {
     "iopub.execute_input": "2024-07-07T15:28:46.357758Z",
     "iopub.status.busy": "2024-07-07T15:28:46.357007Z",
     "iopub.status.idle": "2024-07-07T15:29:33.957708Z",
     "shell.execute_reply": "2024-07-07T15:29:33.956618Z"
    },
    "papermill": {
     "duration": 47.619713,
     "end_time": "2024-07-07T15:29:33.970174",
     "exception": false,
     "start_time": "2024-07-07T15:28:46.350461",
     "status": "completed"
    },
    "tags": []
   },
   "outputs": [
    {
     "name": "stdout",
     "output_type": "stream",
     "text": [
      "RMSE: 1.3539\n",
      "MAE: 1.0020\n"
     ]
    }
   ],
   "source": [
    "user_similarity_df = calculate_user_similarity(user_item_matrix)\n",
    "\n",
    "rmse, mae = evaluate_recommendations(user_item_matrix, user_similarity_df, merged_movies)\n",
    "print(f\"RMSE: {rmse:.4f}\")\n",
    "print(f\"MAE: {mae:.4f}\")"
   ]
  },
  {
   "cell_type": "markdown",
   "id": "4f9990a9",
   "metadata": {
    "papermill": {
     "duration": 0.009341,
     "end_time": "2024-07-07T15:29:33.988739",
     "exception": false,
     "start_time": "2024-07-07T15:29:33.979398",
     "status": "completed"
    },
    "tags": []
   },
   "source": [
    "As we can see, the metrics are far from perfect but they are still acceptable I think (the rating is on 5 stars). There is room for improvement, and with more time to do this project, we might be able to lower the RMSE and MAE."
   ]
  },
  {
   "cell_type": "markdown",
   "id": "a441d6b2",
   "metadata": {
    "papermill": {
     "duration": 0.008691,
     "end_time": "2024-07-07T15:29:34.006885",
     "exception": false,
     "start_time": "2024-07-07T15:29:33.998194",
     "status": "completed"
    },
    "tags": []
   },
   "source": [
    "## Example recommendation\n",
    "Change the users at your will"
   ]
  },
  {
   "cell_type": "code",
   "execution_count": 8,
   "id": "4243d43a",
   "metadata": {
    "execution": {
     "iopub.execute_input": "2024-07-07T15:29:34.027411Z",
     "iopub.status.busy": "2024-07-07T15:29:34.026869Z",
     "iopub.status.idle": "2024-07-07T15:29:34.057523Z",
     "shell.execute_reply": "2024-07-07T15:29:34.056367Z"
    },
    "papermill": {
     "duration": 0.04514,
     "end_time": "2024-07-07T15:29:34.061252",
     "exception": false,
     "start_time": "2024-07-07T15:29:34.016112",
     "status": "completed"
    },
    "tags": []
   },
   "outputs": [
    {
     "name": "stdout",
     "output_type": "stream",
     "text": [
      "Recommended movie for users 87 and 94:\n",
      "Title: Jaws (1975)\n",
      "MovieLens Genres: Action|Horror\n",
      "IMDb Genres: Adventure,Thriller\n",
      "IMDb Rating: 8.1\n",
      "Predicted rating for the couple: 3.97/5\n"
     ]
    }
   ],
   "source": [
    "user1_id, user2_id = 87, 94 \n",
    "recommended_movie, predicted_rating = recommend_for_couple(user1_id, user2_id, user_item_matrix, user_similarity_df, merged_movies)\n",
    "print(f\"Recommended movie for users {user1_id} and {user2_id}:\")\n",
    "print(f\"Title: {recommended_movie['title']}\")\n",
    "print(f\"MovieLens Genres: {recommended_movie['genres_x']}\")\n",
    "print(f\"IMDb Genres: {recommended_movie['genres_y']}\")\n",
    "print(f\"IMDb Rating: {recommended_movie['averageRating']}\")\n",
    "print(f\"Predicted rating for the couple: {predicted_rating:.2f}/5\")"
   ]
  },
  {
   "cell_type": "markdown",
   "id": "5ae5a31e",
   "metadata": {
    "papermill": {
     "duration": 0.008818,
     "end_time": "2024-07-07T15:29:34.079882",
     "exception": false,
     "start_time": "2024-07-07T15:29:34.071064",
     "status": "completed"
    },
    "tags": []
   },
   "source": [
    "# Discussion about what we have done\n",
    "\n",
    "## Strengths\n",
    "\n",
    "- Integration of Multiple Data Sources: By combining MovieLens and IMDb data, our system leverages both user ratings and broader movie information.\n",
    "- Couple-Focused Approach: The system explicitly considers the preferences of two users, addressing a real-world scenario often overlooked in recommender systems.\n",
    "- Balance of Preferences and Quality: Our method combines predicted ratings with IMDb scores, aiming to recommend movies that are both personally appealing and critically acclaimed.\n",
    "\n",
    "## Limitations\n",
    "\n",
    "- Accuracy: While our RMSE and MAE scores are reasonable, there's room for improvement. Future iterations could explore matrix factorization techniques or deep learning approaches to enhance prediction accuracy.\n",
    "- Evaluation Metrics: Our current metrics focus solely on rating prediction accuracy. Incorporating ranking-based metrics (e.g., Precision@k, Recall@k) and diversity measures could provide a more comprehensive evaluation of the system's performance.\n",
    "- Cold Start Problem: The current system may struggle with new users or movies. Implementing content-based features could help address this limitation.\n",
    "- Scalability: As the dataset grows, computational efficiency may become a concern. Exploring more efficient similarity computation methods or moving to a model-based approach could improve scalability.\n",
    "- User Interface: Developing a user-friendly interface for couples to interact with the system would be a valuable next step for practical application."
   ]
  },
  {
   "cell_type": "markdown",
   "id": "66b67672",
   "metadata": {
    "papermill": {
     "duration": 0.008916,
     "end_time": "2024-07-07T15:29:34.097927",
     "exception": false,
     "start_time": "2024-07-07T15:29:34.089011",
     "status": "completed"
    },
    "tags": []
   },
   "source": [
    "# Conclusion\n",
    "\n",
    "So overall, I did my best to do this project, even if the results are not brilliant, they are still ok. I struggled in the beginning of this project, especially on how to do it because of the free choices.\n",
    "\n",
    "Our movie suggestion tool for couples is working on is based on collaborative filtering, taking into account the likes of two people at the same time. The results we have so far are promising, but there's definitely room for improvement and growth. This project sets the stage for more advanced couple-focused recommendation tools, which could potentially be used for more than just movies, reaching into other situations where couples make decisions together."
   ]
  },
  {
   "cell_type": "markdown",
   "id": "69c674b5",
   "metadata": {
    "papermill": {
     "duration": 0.008516,
     "end_time": "2024-07-07T15:29:34.115474",
     "exception": false,
     "start_time": "2024-07-07T15:29:34.106958",
     "status": "completed"
    },
    "tags": []
   },
   "source": [
    "## Sources used for this project\n",
    "(in order of importance)\n",
    "- This course : https://github.com/oscar-defelice/Recommender-Systems-Course/blob/main/src/01.Introduction.ipynb\n",
    "- Stackoverflow\n",
    "- https://proclusacademy.com/blog/explainer/regression-metrics-you-must-know/\n",
    "- ChatGPT (especially for debug + form + setup of the project)\n",
    "- https://realpython.com/build-recommendation-engine-collaborative-filtering/"
   ]
  }
 ],
 "metadata": {
  "kaggle": {
   "accelerator": "none",
   "dataSources": [
    {
     "datasetId": 1114664,
     "sourceId": 1872300,
     "sourceType": "datasetVersion"
    },
    {
     "datasetId": 2133425,
     "sourceId": 3548118,
     "sourceType": "datasetVersion"
    }
   ],
   "dockerImageVersionId": 30732,
   "isGpuEnabled": false,
   "isInternetEnabled": true,
   "language": "python",
   "sourceType": "notebook"
  },
  "kernelspec": {
   "display_name": "Python 3",
   "language": "python",
   "name": "python3"
  },
  "language_info": {
   "codemirror_mode": {
    "name": "ipython",
    "version": 3
   },
   "file_extension": ".py",
   "mimetype": "text/x-python",
   "name": "python",
   "nbconvert_exporter": "python",
   "pygments_lexer": "ipython3",
   "version": "3.10.13"
  },
  "papermill": {
   "default_parameters": {},
   "duration": 126.263264,
   "end_time": "2024-07-07T15:29:35.565759",
   "environment_variables": {},
   "exception": null,
   "input_path": "__notebook__.ipynb",
   "output_path": "__notebook__.ipynb",
   "parameters": {},
   "start_time": "2024-07-07T15:27:29.302495",
   "version": "2.5.0"
  }
 },
 "nbformat": 4,
 "nbformat_minor": 5
}
